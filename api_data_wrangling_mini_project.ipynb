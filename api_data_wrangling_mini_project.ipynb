{
 "cells": [
  {
   "cell_type": "markdown",
   "metadata": {},
   "source": [
    "This exercise will require you to pull some data from the Qunadl API. Qaundl is currently the most widely used aggregator of financial market data."
   ]
  },
  {
   "cell_type": "markdown",
   "metadata": {},
   "source": [
    "As a first step, you will need to register a free account on the http://www.quandl.com website."
   ]
  },
  {
   "cell_type": "markdown",
   "metadata": {},
   "source": [
    "After you register, you will be provided with a unique API key, that you should store:"
   ]
  },
  {
   "cell_type": "code",
   "execution_count": 1,
   "metadata": {
    "jupyter": {
     "outputs_hidden": true
    }
   },
   "outputs": [],
   "source": [
    "# Store the API key as a string - according to PEP8, constants are always named in all upper case\n",
    "API_KEY = 'YOUR_API_KEY'"
   ]
  },
  {
   "cell_type": "markdown",
   "metadata": {},
   "source": [
    "Qaundl has a large number of data sources, but, unfortunately, most of them require a Premium subscription. Still, there are also a good number of free datasets."
   ]
  },
  {
   "cell_type": "markdown",
   "metadata": {},
   "source": [
    "For this mini project, we will focus on equities data from the Frankfurt Stock Exhange (FSE), which is available for free. We'll try and analyze the stock prices of a company called Carl Zeiss Meditec, which manufactures tools for eye examinations, as well as medical lasers for laser eye surgery: https://www.zeiss.com/meditec/int/home.html. The company is listed under the stock ticker AFX_X."
   ]
  },
  {
   "cell_type": "markdown",
   "metadata": {},
   "source": [
    "You can find the detailed Quandl API instructions here: https://docs.quandl.com/docs/time-series"
   ]
  },
  {
   "cell_type": "markdown",
   "metadata": {},
   "source": [
    "While there is a dedicated Python package for connecting to the Quandl API, we would prefer that you use the *requests* package, which can be easily downloaded using *pip* or *conda*. You can find the documentation for the package here: http://docs.python-requests.org/en/master/ "
   ]
  },
  {
   "cell_type": "markdown",
   "metadata": {},
   "source": [
    "Finally, apart from the *requests* package, you are encouraged to not use any third party Python packages, such as *pandas*, and instead focus on what's available in the Python Standard Library (the *collections* module might come in handy: https://pymotw.com/3/collections/ ).\n",
    "Also, since you won't have access to DataFrames, you are encouraged to us Python's native data structures - preferably dictionaries, though some questions can also be answered using lists.\n",
    "You can read more on these data structures here: https://docs.python.org/3/tutorial/datastructures.html"
   ]
  },
  {
   "cell_type": "markdown",
   "metadata": {},
   "source": [
    "Keep in mind that the JSON responses you will be getting from the API map almost one-to-one to Python's dictionaries. Unfortunately, they can be very nested, so make sure you read up on indexing dictionaries in the documentation provided above."
   ]
  },
  {
   "cell_type": "code",
   "execution_count": 5,
   "metadata": {
    "jupyter": {
     "outputs_hidden": true
    },
    "scrolled": true
   },
   "outputs": [],
   "source": [
    "# First, import the relevant modules\n",
    "\n",
    "import requests\n",
    "\n",
    "\n",
    "api_key = 'YOUR_API_KEY'\n",
    "\n",
    "# Define the endpoint and parameters for the API request\n",
    "url = 'https://www.quandl.com/api/v3/datasets/FSE/AFX_X.json'\n",
    "params = {\n",
    "    'start_date': '2020-01-01',  \n",
    "    'end_date': '2020-12-31',    \n",
    "    'api_key': api_key,\n",
    "}\n",
    "\n",
    "# Make the API request\n",
    "response = requests.get(url, params=params)\n",
    "\n",
    "# Check if the request was successful (status code 200)\n",
    "if response.status_code == 200:\n",
    "    # Parse the JSON response\n",
    "    data = response.json()\n",
    "\n",
    "    # Extract relevant information from the response\n",
    "    dataset = data['dataset']\n",
    "    column_names = dataset['column_names']\n",
    "    stock_data = dataset['data']\n",
    "\n",
    "\n",
    "else:\n",
    "    print(f\"API request failed with status code {response.status_code}\")\n",
    "\n"
   ]
  },
  {
   "cell_type": "markdown",
   "metadata": {},
   "source": [
    "Note: API's can change a bit with each version, for this exercise it is reccomended to use the \"V3\" quandl api at `https://www.quandl.com/api/v3/`"
   ]
  },
  {
   "cell_type": "code",
   "execution_count": 16,
   "metadata": {
    "jupyter": {
     "outputs_hidden": true
    }
   },
   "outputs": [
    {
     "name": "stdout",
     "output_type": "stream",
     "text": [
      "Sample Data for One Day:\n",
      "{'dataset': {'id': 10095370, 'dataset_code': 'AFX_X', 'database_code': 'FSE', 'name': 'Carl Zeiss Meditec (AFX_X)', 'description': 'Stock Prices for Carl Zeiss Meditec (2020-11-02) from the Frankfurt Stock Exchange.<br><br>Trading System: Xetra<br><br>ISIN: DE0005313704', 'refreshed_at': '2020-12-01T14:48:09.907Z', 'newest_available_date': '2020-12-01', 'oldest_available_date': '2000-06-07', 'column_names': ['Date', 'Open', 'High', 'Low', 'Close', 'Change', 'Traded Volume', 'Turnover', 'Last Price of the Day', 'Daily Traded Units', 'Daily Turnover'], 'frequency': 'daily', 'type': 'Time Series', 'premium': False, 'limit': None, 'transform': None, 'column_index': None, 'start_date': '2020-01-01', 'end_date': '2020-01-01', 'data': [], 'collapse': None, 'order': None, 'database_id': 6129}}\n"
     ]
    }
   ],
   "source": [
    "# Now, call the Quandl API and pull out a small sample of the data (only one day) to get a glimpse\n",
    "# into the JSON structure that will be returned\n",
    "\n",
    "url = 'https://www.quandl.com/api/v3/datasets/FSE/AFX_X.json'\n",
    "params = {\n",
    "    'start_date': '2020-01-01',  # You can adjust the start date as needed\n",
    "    'end_date': '2020-01-01',    # Use the same date for start and end to get data for only one day\n",
    "    'api_key': api_key,\n",
    "}\n",
    "\n",
    "# Make the API request\n",
    "response = requests.get(url, params=params)\n",
    "\n",
    "if response.status_code == 200:\n",
    "    # Parse the JSON response\n",
    "    data = response.json()\n",
    "\n",
    "    # Print the JSON structure for one day\n",
    "    print(\"Sample Data for One Day:\")\n",
    "    print(data)\n",
    "\n",
    "else:\n",
    "    print(f\"API request failed with status code {response.status_code}\")"
   ]
  },
  {
   "cell_type": "code",
   "execution_count": 10,
   "metadata": {
    "jupyter": {
     "outputs_hidden": true
    }
   },
   "outputs": [
    {
     "name": "stdout",
     "output_type": "stream",
     "text": [
      "Top-level keys:\n",
      "dict_keys(['dataset'])\n",
      "\n",
      "Nested keys and levels:\n",
      "dataset:\n",
      "  id:\n",
      "  dataset_code:\n",
      "  database_code:\n",
      "  name:\n",
      "  description:\n",
      "  refreshed_at:\n",
      "  newest_available_date:\n",
      "  oldest_available_date:\n",
      "  column_names:\n",
      "  frequency:\n",
      "  type:\n",
      "  premium:\n",
      "  limit:\n",
      "  transform:\n",
      "  column_index:\n",
      "  start_date:\n",
      "  end_date:\n",
      "  data:\n",
      "  collapse:\n",
      "  order:\n",
      "  database_id:\n"
     ]
    }
   ],
   "source": [
    "# Inspect the JSON structure of the object you created, and take note of how nested it is,\n",
    "# as well as the overall structure\n",
    "if response.status_code == 200:\n",
    "    # Parse the JSON response\n",
    "    data = response.json()\n",
    "\n",
    "    # Print the keys of the top-level JSON object\n",
    "    print(\"Top-level keys:\")\n",
    "    print(data.keys())\n",
    "\n",
    "    # Function to print nested keys and their levels\n",
    "    def print_nested_keys(data, level=0):\n",
    "        if isinstance(data, dict):\n",
    "            for key, value in data.items():\n",
    "                print(\"  \" * level + f\"{key}:\")\n",
    "                print_nested_keys(value, level + 1)\n",
    "        elif isinstance(data, list):\n",
    "            for item in data:\n",
    "                print_nested_keys(item, level + 1)\n",
    "\n",
    "    # Print nested keys and their levels\n",
    "    print(\"\\nNested keys and levels:\")\n",
    "    print_nested_keys(data)\n",
    "\n",
    "else:\n",
    "    print(f\"API request failed with status code {response.status_code}\")"
   ]
  },
  {
   "cell_type": "markdown",
   "metadata": {},
   "source": [
    "These are your tasks for this mini project:\n",
    "\n",
    "1. Collect data from the Franfurt Stock Exchange, for the ticker AFX_X, for the whole year 2017 (keep in mind that the date format is YYYY-MM-DD).\n",
    "2. Convert the returned JSON object into a Python dictionary.\n",
    "3. Calculate what the highest and lowest opening prices were for the stock in this period.\n",
    "4. What was the largest change in any one day (based on High and Low price)?\n",
    "5. What was the largest change between any two days (based on Closing Price)?\n",
    "6. What was the average daily trading volume during this year?\n",
    "7. (Optional) What was the median trading volume during this year. (Note: you may need to implement your own function for calculating the median.)"
   ]
  },
  {
   "cell_type": "code",
   "execution_count": 15,
   "metadata": {
    "jupyter": {
     "outputs_hidden": true
    }
   },
   "outputs": [
    {
     "name": "stdout",
     "output_type": "stream",
     "text": [
      "3. Highest Opening Price: 53.11\n",
      "3. Lowest Opening Price: 34.0\n",
      "4. Largest Change in One Day: 2.8100000000000023\n",
      "5. Largest Change Between Any Two Days: 2.559999999999995\n",
      "6. Average Daily Trading Volume: 89124.33725490196\n",
      "7. Median Trading Volume: 76286.0\n"
     ]
    }
   ],
   "source": [
    "import requests\n",
    "\n",
    "# API Key\n",
    "api_key = 'YOUR_API_KEY'\n",
    "\n",
    "# Step 1: Define the endpoint and parameters for the API request\n",
    "url = 'https://www.quandl.com/api/v3/datasets/FSE/AFX_X.json'\n",
    "params = {\n",
    "    'start_date': '2017-01-01',\n",
    "    'end_date': '2017-12-31',\n",
    "    'api_key': api_key,\n",
    "}\n",
    "\n",
    "# Step 2: Make the API request\n",
    "response = requests.get(url, params=params)\n",
    "\n",
    "# Step 3: Check if the request was successful (status code 200)\n",
    "if response.status_code == 200:\n",
    "    # Step 4: Parse the JSON response\n",
    "    data = response.json()\n",
    "\n",
    "    # Step 5: Extract relevant information from the response\n",
    "    dataset = data['dataset']\n",
    "    column_names = dataset['column_names']\n",
    "    stock_data = dataset['data']\n",
    "\n",
    "    # Step 6: Create a dictionary from the data\n",
    "    stock_dict = {column_names[i]: [daily[i] for daily in stock_data] for i in range(len(column_names))}\n",
    "\n",
    "    # Step 7: Calculate the highest and lowest opening prices\n",
    "    opening_prices = [price for price in stock_dict['Open'] if price is not None]\n",
    "    highest_opening_price = max(opening_prices)\n",
    "    lowest_opening_price = min(opening_prices)\n",
    "\n",
    "    print(f\"3. Highest Opening Price: {highest_opening_price}\")\n",
    "    print(f\"3. Lowest Opening Price: {lowest_opening_price}\")\n",
    "\n",
    "    # Step 8: Calculate the largest change in any one day (based on High and Low price)\n",
    "    daily_price_changes = [daily_high - daily_low for daily_high, daily_low in zip(stock_dict['High'], stock_dict['Low'])]\n",
    "    largest_change_in_one_day = max(daily_price_changes)\n",
    "\n",
    "    print(f\"4. Largest Change in One Day: {largest_change_in_one_day}\")\n",
    "\n",
    "    # Step 9: Calculate the largest change between any two days (based on Closing Price)\n",
    "    closing_prices = stock_dict['Close']\n",
    "    change_between_days = [abs(closing_prices[i] - closing_prices[i-1]) for i in range(1, len(closing_prices))]\n",
    "    largest_change_between_days = max(change_between_days)\n",
    "\n",
    "    print(f\"5. Largest Change Between Any Two Days: {largest_change_between_days}\")\n",
    "\n",
    "    # Step 10: Calculate the average daily trading volume\n",
    "    trading_volumes = [volume for volume in stock_dict['Traded Volume'] if volume is not None]\n",
    "    average_daily_trading_volume = sum(trading_volumes) / len(trading_volumes)\n",
    "\n",
    "    print(f\"6. Average Daily Trading Volume: {average_daily_trading_volume}\")\n",
    "\n",
    "    # Step 11: Calculate the median trading volume\n",
    "    def calculate_median(data):\n",
    "        sorted_data = sorted(data)\n",
    "        n = len(sorted_data)\n",
    "        if n % 2 == 0:\n",
    "            median = (sorted_data[n//2 - 1] + sorted_data[n//2]) / 2\n",
    "        else:\n",
    "            median = sorted_data[n//2]\n",
    "        return median\n",
    "\n",
    "    median_trading_volume = calculate_median(trading_volumes)\n",
    "\n",
    "    print(f\"7. Median Trading Volume: {median_trading_volume}\")\n",
    "\n",
    "else:\n",
    "    print(f\"7.  API request failed with status code {response.status_code}\")\n"
   ]
  },
  {
   "cell_type": "code",
   "execution_count": null,
   "metadata": {},
   "outputs": [],
   "source": []
  }
 ],
 "metadata": {
  "kernelspec": {
   "display_name": "Python 3 (ipykernel)",
   "language": "python",
   "name": "python3"
  },
  "language_info": {
   "codemirror_mode": {
    "name": "ipython",
    "version": 3
   },
   "file_extension": ".py",
   "mimetype": "text/x-python",
   "name": "python",
   "nbconvert_exporter": "python",
   "pygments_lexer": "ipython3",
   "version": "3.11.5"
  }
 },
 "nbformat": 4,
 "nbformat_minor": 4
}
