{
 "cells": [
  {
   "cell_type": "markdown",
   "metadata": {},
   "source": [
    "This exercise will require you to pull some data from the Qunadl API. Qaundl is currently the most widely used aggregator of financial market data."
   ]
  },
  {
   "cell_type": "markdown",
   "metadata": {},
   "source": [
    "As a first step, you will need to register a free account on the http://www.quandl.com website."
   ]
  },
  {
   "cell_type": "markdown",
   "metadata": {},
   "source": [
    "After you register, you will be provided with a unique API key, that you should store:"
   ]
  },
  {
   "cell_type": "code",
   "execution_count": 1,
   "metadata": {
    "jupyter": {
     "outputs_hidden": true
    }
   },
   "outputs": [],
   "source": [
    "# Store the API key as a string - according to PEP8, constants are always named in all upper case\n",
    "API_KEY = 'YOUR_API_KEY'"
   ]
  },
  {
   "cell_type": "markdown",
   "metadata": {},
   "source": [
    "Qaundl has a large number of data sources, but, unfortunately, most of them require a Premium subscription. Still, there are also a good number of free datasets."
   ]
  },
  {
   "cell_type": "markdown",
   "metadata": {},
   "source": [
    "For this mini project, we will focus on equities data from the Frankfurt Stock Exhange (FSE), which is available for free. We'll try and analyze the stock prices of a company called Carl Zeiss Meditec, which manufactures tools for eye examinations, as well as medical lasers for laser eye surgery: https://www.zeiss.com/meditec/int/home.html. The company is listed under the stock ticker AFX_X."
   ]
  },
  {
   "cell_type": "markdown",
   "metadata": {},
   "source": [
    "You can find the detailed Quandl API instructions here: https://docs.quandl.com/docs/time-series"
   ]
  },
  {
   "cell_type": "markdown",
   "metadata": {},
   "source": [
    "While there is a dedicated Python package for connecting to the Quandl API, we would prefer that you use the *requests* package, which can be easily downloaded using *pip* or *conda*. You can find the documentation for the package here: http://docs.python-requests.org/en/master/ "
   ]
  },
  {
   "cell_type": "markdown",
   "metadata": {},
   "source": [
    "Finally, apart from the *requests* package, you are encouraged to not use any third party Python packages, such as *pandas*, and instead focus on what's available in the Python Standard Library (the *collections* module might come in handy: https://pymotw.com/3/collections/ ).\n",
    "Also, since you won't have access to DataFrames, you are encouraged to us Python's native data structures - preferably dictionaries, though some questions can also be answered using lists.\n",
    "You can read more on these data structures here: https://docs.python.org/3/tutorial/datastructures.html"
   ]
  },
  {
   "cell_type": "markdown",
   "metadata": {},
   "source": [
    "Keep in mind that the JSON responses you will be getting from the API map almost one-to-one to Python's dictionaries. Unfortunately, they can be very nested, so make sure you read up on indexing dictionaries in the documentation provided above."
   ]
  },
  {
   "cell_type": "code",
   "execution_count": 5,
   "metadata": {
    "jupyter": {
     "outputs_hidden": true
    },
    "scrolled": true
   },
   "outputs": [],
   "source": [
    "# First, import the relevant modules\n",
    "\n",
    "import requests\n",
    "\n",
    "\n",
    "api_key = 'YOUR_API_KEY'\n",
    "\n",
    "# Define the endpoint and parameters for the API request\n",
    "url = 'https://www.quandl.com/api/v3/datasets/FSE/AFX_X.json'\n",
    "params = {\n",
    "    'start_date': '2020-01-01',  \n",
    "    'end_date': '2020-12-31',    \n",
    "    'api_key': api_key,\n",
    "}\n",
    "\n",
    "# Make the API request\n",
    "response = requests.get(url, params=params)\n",
    "\n",
    "# Check if the request was successful (status code 200)\n",
    "if response.status_code == 200:\n",
    "    # Parse the JSON response\n",
    "    data = response.json()\n",
    "\n",
    "    # Extract relevant information from the response\n",
    "    dataset = data['dataset']\n",
    "    column_names = dataset['column_names']\n",
    "    stock_data = dataset['data']\n",
    "\n",
    "\n",
    "else:\n",
    "    print(f\"API request failed with status code {response.status_code}\")\n",
    "\n"
   ]
  },
  {
   "cell_type": "markdown",
   "metadata": {},
   "source": [
    "Note: API's can change a bit with each version, for this exercise it is reccomended to use the \"V3\" quandl api at `https://www.quandl.com/api/v3/`"
   ]
  },
  {
   "cell_type": "code",
   "execution_count": 9,
   "metadata": {
    "jupyter": {
     "outputs_hidden": true
    }
   },
   "outputs": [
    {
     "name": "stdout",
     "output_type": "stream",
     "text": [
      "Sample Data for One Day:\n",
      "{'dataset': {'id': 10095370, 'dataset_code': 'AFX_X', 'database_code': 'FSE', 'name': 'Carl Zeiss Meditec (AFX_X)', 'description': 'Stock Prices for Carl Zeiss Meditec (2020-11-02) from the Frankfurt Stock Exchange.<br><br>Trading System: Xetra<br><br>ISIN: DE0005313704', 'refreshed_at': '2020-12-01T14:48:09.907Z', 'newest_available_date': '2020-12-01', 'oldest_available_date': '2000-06-07', 'column_names': ['Date', 'Open', 'High', 'Low', 'Close', 'Change', 'Traded Volume', 'Turnover', 'Last Price of the Day', 'Daily Traded Units', 'Daily Turnover'], 'frequency': 'daily', 'type': 'Time Series', 'premium': False, 'limit': None, 'transform': None, 'column_index': None, 'start_date': '2020-01-01', 'end_date': '2020-12-01', 'data': [['2020-12-01', 112.2, 112.2, 111.5, 112.0, None, 51.0, 5703.0, None, None, None], ['2020-11-30', 111.0, 113.6, 111.0, 112.1, None, 315.0, 35111.5, None, None, None], ['2020-11-27', 111.0, 111.5, 109.5, 111.2, None, 155.0, 17168.5, None, None, None], ['2020-11-26', 111.3, 112.0, 110.5, 111.6, None, 254.0, 28367.5, None, None, None], ['2020-11-25', 111.4, 111.4, 110.1, 110.1, None, 294.0, 32435.8, None, None, None], ['2020-11-24', 116.1, 116.8, 110.5, 113.5, None, 3184.0, 361404.4, None, None, None], ['2020-11-23', 118.0, 118.8, 116.3, 116.3, None, 1590.0, 187525.0, None, None, None], ['2020-11-20', 116.5, 118.0, 116.5, 117.5, None, 295.0, 34736.0, None, None, None], ['2020-11-19', 115.6, 115.6, 115.6, 115.6, None, 0.0, 0.0, None, None, None], ['2020-11-18', 115.8, 115.8, 115.0, 115.0, None, 25.0, 2875.0, None, None, None], ['2020-11-17', 117.9, 117.9, 115.7, 115.7, None, 381.0, 44235.6, None, None, None], ['2020-11-16', 118.9, 119.8, 118.1, 118.1, None, 266.0, 31637.8, None, None, None], ['2020-11-13', 115.4, 117.2, 115.4, 117.2, None, 162.0, 18892.3, None, None, None], ['2020-11-12', 117.1, 117.5, 116.4, 116.4, None, 185.0, 21587.5, None, None, None], ['2020-11-11', 115.0, 117.3, 115.0, 116.9, None, 353.0, 41227.0, None, None, None], ['2020-11-10', 118.4, 118.4, 114.6, 114.6, None, 93.0, 10801.6, None, None, None], ['2020-11-09', 116.1, 119.9, 116.1, 119.4, None, 494.0, 58880.6, None, None, None], ['2020-11-06', 115.2, 115.8, 114.8, 115.1, None, 190.0, 21831.0, None, None, None], ['2020-11-05', 114.7, 116.2, 114.7, 115.4, None, 382.0, 44272.4, None, None, None], ['2020-11-04', 109.8, 113.8, 109.8, 113.8, None, 69.0, 7804.7, None, None, None], ['2020-11-03', 108.4, 110.0, 108.4, 110.0, None, 176.0, 19259.0, None, None, None], ['2020-11-02', 111.3, 111.6, 108.1, 108.1, None, 362.0, 39844.5, None, None, None], ['2020-10-30', 107.2, 112.9, 107.2, 110.7, None, 99.0, 11001.5, None, None, None], ['2020-10-29', 112.1, 113.0, 106.7, 109.5, None, 395.0, 43369.2, None, None, None], ['2020-10-28', 113.7, 113.7, 106.1, 111.8, None, 861.0, 94248.9, None, None, None], ['2020-10-27', 115.6, 115.8, 114.9, 114.9, None, 360.0, 41598.0, None, None, None], ['2020-10-26', 117.5, 117.5, 113.4, 113.7, None, 694.0, 80177.1, None, None, None], ['2020-10-23', 120.4, 121.1, 115.0, 118.5, None, 813.0, 96193.0, None, None, None], ['2020-10-22', 119.5, 121.9, 118.8, 121.5, None, 260.0, 31396.4, None, None, None], ['2020-10-21', 121.8, 121.9, 119.9, 120.6, None, 2148.0, 258027.5, None, None, None], ['2020-10-20', 122.1, 123.2, 121.8, 123.2, None, 55.0, 6706.0, None, None, None], ['2020-10-19', 121.6, 123.7, 121.6, 122.8, None, 264.0, 32417.3, None, None, None], ['2020-10-16', 118.6, 122.4, 118.6, 121.4, None, 320.0, 39037.3, None, None, None], ['2020-10-15', 121.0, 121.2, 118.5, 118.7, None, 853.0, 102179.6, None, None, None], ['2020-10-14', 118.6, 122.1, 118.6, 122.1, None, 507.0, 61486.3, None, None, None], ['2020-10-13', 120.3, 120.9, 117.8, 118.7, None, 351.0, 41428.7, None, None, None], ['2020-10-12', 115.8, 120.6, 115.8, 120.5, None, 331.0, 39564.3, None, None, None], ['2020-10-09', 114.0, 116.2, 113.9, 116.2, None, 1298.0, 149551.9, None, None, None], ['2020-10-08', 112.1, 114.5, 112.1, 114.5, None, 392.0, 44587.1, None, None, None], ['2020-10-07', 112.0, 112.7, 111.3, 112.7, None, 202.0, 22687.6, None, None, None], ['2020-10-06', 110.4, 111.8, 110.4, 111.8, None, 450.0, 50030.0, None, None, None], ['2020-10-05', 109.3, 110.9, 109.3, 110.9, None, 64.0, 7068.6, None, None, None], ['2020-10-02', 108.0, 109.6, 108.0, 109.6, None, 177.0, 19153.5, None, None, None], ['2020-10-01', 108.1, 109.5, 108.1, 109.5, None, 70.0, 7650.0, None, None, None], ['2020-09-30', 108.6, 108.6, 106.8, 106.8, None, 271.0, 29094.6, None, None, None], ['2020-09-29', 106.9, 109.4, 106.9, 109.4, None, 76.0, 8253.9, None, None, None], ['2020-09-28', 105.0, 107.3, 105.0, 107.1, None, 472.0, 50326.6, None, None, None], ['2020-09-25', 103.2, 104.4, 103.0, 103.7, None, 763.0, 78994.1, None, None, None], ['2020-09-24', 100.5, 103.8, 100.5, 103.8, None, 152.0, 15708.0, None, None, None], ['2020-09-23', 101.0, 101.7, 100.6, 101.7, None, 368.0, 37374.3, None, None, None], ['2020-09-22', 98.5, 100.0, 98.5, 100.0, None, 190.0, 18865.0, None, None, None], ['2020-09-21', 101.7, 101.7, 98.2, 98.2, None, 300.0, 30299.0, None, None, None], ['2020-09-18', 100.1, 101.2, 100.1, 101.2, None, 209.0, 21100.8, None, None, None], ['2020-09-17', 96.1, 102.0, 96.0, 102.0, None, 433.0, 42836.5, None, None, None], ['2020-09-16', 93.1, 95.95, 93.1, 95.95, None, 45.0, 4241.25, None, None, None], ['2020-09-15', 92.5, 92.5, 92.15, 92.4, None, 167.0, 15414.45, None, None, None], ['2020-09-14', 93.1, 93.1, 93.0, 93.0, None, 25.0, 2326.0, None, None, None], ['2020-09-11', 93.85, 93.85, 92.5, 92.5, None, 70.0, 6475.0, None, None, None], ['2020-09-10', 95.6, 95.6, 94.55, 94.55, None, 110.0, 10495.5, None, None, None], ['2020-09-09', 94.75, 95.85, 94.4, 95.85, None, 411.0, 38950.25, None, None, None], ['2020-09-08', 96.3, 96.3, 93.3, 94.75, None, 165.0, 15516.5, None, None, None], ['2020-09-07', 93.5, 95.95, 93.5, 95.95, None, 160.0, 15074.5, None, None, None], ['2020-09-04', 94.5, 94.5, 93.15, 93.15, None, 350.0, 32790.25, None, None, None], ['2020-09-03', 99.1, 99.1, 94.8, 95.0, None, 382.0, 36699.7, None, None, None], ['2020-09-02', 94.75, 99.05, 94.75, 98.75, None, 582.0, 56936.55, None, None, None], ['2020-09-01', 94.6, 95.0, 94.55, 94.55, None, 385.0, 36427.5, None, None, None], ['2020-08-31', 94.75, 94.75, 94.35, 94.35, None, 175.0, 16541.25, None, None, None], ['2020-08-28', 95.0, 95.5, 93.8, 95.3, None, 98882.0, 9370950.35, None, None, None], ['2020-08-27', 95.7, 96.0, 94.5, 94.8, None, 142753.0, 13576918.75, None, None, None], ['2020-08-26', 94.25, 95.5, 94.05, 95.4, None, 82485.0, 7827754.45, None, None, None], ['2020-08-25', 93.85, 94.75, 93.45, 94.5, None, 89082.0, 8397454.8, None, None, None], ['2020-08-24', 92.3, 94.5, 92.3, 93.5, None, 119117.0, 11168837.75, None, None, None], ['2020-08-21', 92.15, 92.2, 90.65, 91.9, None, 65210.0, 5976477.15, None, None, None], ['2020-08-20', 91.0, 92.4, 90.45, 92.15, None, 95493.0, 8763119.9, None, None, None], ['2020-08-19', 91.0, 92.2, 90.0, 91.65, None, 88102.0, 8063097.4, None, None, None], ['2020-08-18', 91.55, 92.0, 90.4, 91.0, None, 85470.0, 7789882.4, None, None, None], ['2020-08-17', 91.6, 91.95, 90.55, 91.9, None, 58566.0, 5357104.3, None, None, None], ['2020-08-14', 92.9, 93.25, 91.35, 91.85, None, 78700.0, 7257628.1, None, None, None], ['2020-08-13', 92.2, 93.0, 91.1, 92.85, None, 98209.0, 9080452.6, None, None, None], ['2020-08-12', 90.8, 92.95, 88.3, 92.65, None, 182444.0, 16598657.95, None, None, None], ['2020-08-11', 94.9, 95.4, 90.35, 90.75, None, 168948.0, 15524389.1, None, None, None], ['2020-08-10', 94.0, 96.0, 93.75, 94.55, None, 183320.0, 17388579.4, None, None, None], ['2020-08-07', 90.2, 93.15, 89.8, 92.95, None, 109450.0, 10126152.1, None, None, None], ['2020-08-06', 91.45, 92.0, 90.35, 91.1, None, 140089.0, 12778666.3, None, None, None], ['2020-08-05', 89.85, 91.85, 88.75, 91.85, None, 147638.0, 13413298.3, None, None, None], ['2020-08-04', 90.5, 91.1, 88.25, 89.05, None, 110318.0, 9813561.0, None, None, None], ['2020-08-03', 89.0, 90.5, 88.2, 90.0, None, 95661.0, 8591521.9, None, None, None], ['2020-07-31', 89.4, 90.95, 88.5, 88.65, None, 145927.0, 13058046.1, None, None, None], ['2020-07-30', 91.7, 91.75, 88.1, 89.6, None, 182764.0, 16464224.8, None, None, None], ['2020-07-29', 88.55, 92.25, 88.2, 92.25, None, 169549.0, 15522318.75, None, None, None], ['2020-07-28', 89.5, 89.75, 88.35, 88.85, None, 116461.0, 10345922.4, None, None, None], ['2020-07-27', 88.0, 89.55, 87.35, 89.15, None, 102146.0, 9082131.05, None, None, None], ['2020-07-24', 90.5, 90.5, 87.85, 87.9, None, 177031.0, 15683394.95, None, None, None], ['2020-07-23', 88.4, 91.55, 88.15, 91.55, None, 146866.0, 13280553.85, None, None, None], ['2020-07-22', 88.6, 89.1, 87.4, 88.75, None, 101234.0, 8954258.2, None, None, None], ['2020-07-21', 89.55, 89.95, 87.75, 88.5, None, 195028.0, 17331900.8, None, None, None], ['2020-07-20', 88.25, 89.5, 87.55, 88.95, None, 227635.0, 20134893.65, None, None, None], ['2020-07-17', 89.15, 90.5, 88.0, 88.4, None, 163078.0, 14464839.25, None, None, None], ['2020-07-16', 90.65, 90.65, 87.9, 88.95, None, 197755.0, 17652520.05, None, None, None], ['2020-07-15', 90.0, 91.7, 86.3, 91.7, None, 258220.0, 23077220.7, None, None, None], ['2020-07-14', 90.1, 90.15, 88.1, 89.2, None, 183507.0, 16350975.75, None, None, None], ['2020-07-13', 90.45, 91.15, 88.6, 91.05, None, 87454.0, 7915927.0, None, None, None], ['2020-07-10', 89.25, 91.55, 88.9, 89.9, None, 93540.0, 8453243.25, None, None, None], ['2020-07-09', 91.15, 91.35, 89.45, 89.55, None, 181776.0, 16405326.65, None, None, None], ['2020-07-08', 92.0, 92.55, 90.15, 90.3, None, 153582.0, 13970079.05, None, None, None], ['2020-07-07', 92.95, 93.65, 91.15, 92.5, None, 153153.0, 14109118.8, None, None, None], ['2020-07-06', 93.8, 93.9, 92.8, 93.8, None, 98508.0, 9199714.85, None, None, None], ['2020-07-03', 93.1, 93.85, 91.9, 92.35, None, 114471.0, 10617857.55, None, None, None], ['2020-07-02', 89.75, 93.8, 88.8, 92.85, None, 365676.0, 33662061.9, None, None, None], ['2020-07-01', 86.2, 89.25, 86.0, 89.25, None, 106604.0, 9438618.8, None, None, None], ['2020-06-30', 87.0, 87.15, 85.0, 86.8, None, 138372.0, 11944211.15, None, None, None], ['2020-06-29', 88.0, 88.85, 86.5, 87.05, None, 76589.0, 6688133.9, None, None, None], ['2020-06-26', 88.2, 89.4, 86.65, 88.05, None, 123809.0, 10922723.5, None, None, None], ['2020-06-25', 86.25, 88.25, 84.8, 87.8, None, 118166.0, 10302946.05, None, None, None], ['2020-06-24', 90.05, 90.25, 86.2, 86.2, None, 115847.0, 10143798.5, None, None, None], ['2020-06-23', 89.2, 91.0, 88.6, 89.95, None, 112453.0, 10108636.8, None, None, None], ['2020-06-22', 90.35, 90.7, 87.85, 88.55, None, 116991.0, 10394476.9, None, None, None], ['2020-06-19', 90.55, 91.8, 90.0, 91.25, None, 174766.0, 15936379.65, None, None, None], ['2020-06-18', 91.6, 91.85, 89.6, 90.05, None, 98019.0, 8859710.65, None, None, None], ['2020-06-17', 90.55, 92.15, 89.7, 91.45, None, 149331.0, 13655800.2, None, None, None], ['2020-06-16', 88.35, 90.75, 87.45, 90.65, None, 206243.0, 18478591.35, None, None, None], ['2020-06-15', 85.0, 86.9, 84.75, 86.35, None, 181008.0, 15502164.95, None, None, None], ['2020-06-12', 85.65, 87.9, 84.85, 86.4, None, 137604.0, 11931180.75, None, None, None], ['2020-06-11', 87.0, 87.65, 85.55, 86.3, None, 127406.0, 11026683.1, None, None, None], ['2020-06-10', 89.25, 90.1, 87.0, 87.8, None, 192426.0, 16965135.2, None, None, None], ['2020-06-09', 91.65, 93.25, 89.2, 89.35, None, 209173.0, 18983014.7, None, None, None], ['2020-06-08', 92.65, 92.65, 89.8, 91.7, None, 172403.0, 15698539.85, None, None, None], ['2020-06-05', 91.6, 93.3, 90.65, 93.15, None, 185077.0, 17116028.75, None, None, None], ['2020-06-04', 92.3, 92.8, 89.65, 91.4, None, 238456.0, 21679333.75, None, None, None], ['2020-06-03', 91.15, 93.3, 89.65, 92.9, None, 144255.0, 13282471.95, None, None, None], ['2020-06-02', 93.3, 93.5, 89.5, 91.0, None, 165446.0, 15036505.55, None, None, None], ['2020-05-29', 91.05, 93.1, 90.25, 92.1, None, 238162.0, 21887648.1, None, None, None], ['2020-05-28', 88.1, 91.7, 87.4, 91.45, None, 228651.0, 14809122.8, None, None, None], ['2020-05-27', 91.0, 91.2, 86.4, 87.3, None, 292506.0, 25754496.6, None, None, None], ['2020-05-26', 91.1, 93.35, 89.7, 90.85, None, 295589.0, 27089139.05, None, None, None], ['2020-05-25', 88.6, 92.7, 88.1, 92.6, None, 101335.0, 9240143.65, None, None, None], ['2020-05-22', 87.35, 88.5, 85.45, 87.65, None, 170878.0, 14839809.55, None, None, None], ['2020-05-21', 90.95, 90.95, 87.8, 87.9, None, 103051.0, 9147975.45, None, None, None], ['2020-05-20', 92.5, 93.3, 91.3, 91.8, None, 169820.0, 15657134.85, None, None, None], ['2020-05-19', 90.45, 92.8, 89.8, 92.5, None, 215504.0, 19826326.1, None, None, None], ['2020-05-18', 85.45, 89.95, 84.9, 89.65, None, 202085.0, 17790850.8, None, None, None], ['2020-05-15', 82.25, 84.85, 80.65, 83.8, None, 219726.0, 18211281.9, None, None, None], ['2020-05-14', 84.7, 85.3, 81.15, 81.35, None, 227178.0, 18722697.45, None, None, None], ['2020-05-13', 85.5, 87.9, 83.8, 85.75, None, 229089.0, 19608050.05, None, None, None], ['2020-05-12', 91.55, 91.55, 86.0, 86.0, None, 332344.0, 29093515.5, None, None, None], ['2020-05-11', 97.0, 97.7, 90.75, 91.8, None, 202683.0, 18762257.75, None, None, None], ['2020-05-08', 96.35, 97.35, 95.15, 95.3, None, 134071.0, 12869764.45, None, None, None], ['2020-05-07', 94.55, 97.25, 94.25, 96.0, None, 210096.0, 20200879.55, None, None, None], ['2020-05-06', 92.8, 94.7, 91.45, 93.95, None, 129479.0, 12095616.85, None, None, None], ['2020-05-05', 88.9, 92.6, 88.25, 92.6, None, 131163.0, 12019019.15, None, None, None], ['2020-05-04', 87.65, 88.1, 85.95, 87.65, None, 168947.0, 14745103.15, None, None, None], ['2020-04-30', 91.6, 92.1, 89.9, 89.95, None, 137448.0, 12454130.55, None, None, None], ['2020-04-29', 90.0, 91.0, 87.85, 90.95, None, 143888.0, 12901979.9, None, None, None], ['2020-04-28', 92.0, 92.2, 89.15, 89.65, None, 163949.0, 14804941.85, None, None, None], ['2020-04-27', 95.05, 95.35, 92.1, 92.1, None, 109266.0, 10128133.7, None, None, None], ['2020-04-24', 94.4, 94.6, 92.35, 93.1, None, 111240.0, 10358166.75, None, None, None], ['2020-04-23', 94.75, 95.5, 92.7, 94.8, None, 123862.0, 11684265.45, None, None, None], ['2020-04-22', 92.75, 94.65, 91.6, 94.65, None, 126830.0, 11898048.5, None, None, None], ['2020-04-21', 93.4, 93.95, 91.5, 91.5, None, 115152.0, 10603440.3, None, None, None], ['2020-04-20', 94.0, 94.65, 91.9, 94.15, None, 124634.0, 11640880.35, None, None, None], ['2020-04-17', 93.4, 94.05, 91.85, 92.9, None, 185554.0, 17165035.1, None, None, None], ['2020-04-16', 91.9, 92.75, 90.7, 91.45, None, 162831.0, 14907520.55, None, None, None], ['2020-04-15', 94.0, 94.6, 90.15, 90.95, None, 204001.0, 18647943.8, None, None, None], ['2020-04-14', 97.5, 98.0, 93.35, 94.05, None, 147594.0, 13964369.1, None, None, None], ['2020-04-09', 93.1, 95.4, 92.05, 95.4, None, 161578.0, 15199731.2, None, None, None], ['2020-04-08', 90.2, 92.25, 89.8, 92.2, None, 152911.0, 14008042.75, None, None, None], ['2020-04-07', 92.0, 92.55, 88.9, 89.5, None, 218796.0, 19809733.65, None, None, None], ['2020-04-06', 86.35, 89.65, 86.25, 89.65, None, 165074.0, 14584495.75, None, None, None], ['2020-04-03', 83.1, 85.45, 82.5, 84.0, None, 184124.0, 15495174.4, None, None, None], ['2020-04-02', 86.0, 87.15, 79.5, 82.5, None, 300359.0, 24916457.15, None, None, None], ['2020-04-01', 86.5, 86.9, 85.0, 86.1, None, 192187.0, 16541381.35, None, None, None], ['2020-03-31', 92.0, 92.65, 88.15, 88.35, None, 311491.0, 27892906.55, None, None, None], ['2020-03-30', 85.4, 88.9, 83.1, 88.9, None, 167955.0, 14624880.3, None, None, None], ['2020-03-27', 89.0, 90.85, 83.5, 83.95, None, 231618.0, 19986099.3, None, None, None], ['2020-03-26', 81.5, 91.05, 81.5, 91.05, None, 274322.0, 23971500.55, None, None, None], ['2020-03-25', 82.5, 90.4, 80.6, 83.1, None, 284087.0, 23870691.15, None, None, None], ['2020-03-24', 79.2, 79.45, 76.6, 79.45, None, 256310.0, 20107995.1, None, None, None], ['2020-03-23', 74.5, 77.05, 72.9, 75.0, None, 187013.0, 14032458.1, None, None, None], ['2020-03-20', 76.65, 82.35, 75.7, 78.25, None, 446534.0, 34997042.95, None, None, None], ['2020-03-19', 69.15, 74.7, 67.7, 73.45, None, 272648.0, 19466640.1, None, None, None], ['2020-03-18', 74.5, 75.25, 69.55, 69.7, None, 341817.0, 24444114.6, None, None, None], ['2020-03-17', 79.0, 80.1, 73.5, 75.1, None, 265313.0, 20046246.2, None, None, None], ['2020-03-16', 75.0, 76.9, 71.45, 76.15, None, 422533.0, 31664759.85, None, None, None], ['2020-03-13', 77.75, 84.05, 76.85, 78.85, None, 457906.0, 36529317.4, None, None, None], ['2020-03-12', 77.75, 81.65, 75.8, 76.45, None, 428846.0, 33545984.85, None, None, None], ['2020-03-11', 87.6, 88.45, 83.85, 84.3, None, 250339.0, 21276696.5, None, None, None], ['2020-03-10', 88.25, 90.3, 86.0, 86.8, None, 324702.0, 28663267.75, None, None, None], ['2020-03-09', 87.65, 92.15, 85.1, 87.2, None, 392049.0, 34832184.95, None, None, None], ['2020-03-06', 95.0, 95.1, 91.9, 94.15, None, 211996.0, 19868077.2, None, None, None], ['2020-03-05', 101.3, 102.6, 96.35, 97.2, None, 230406.0, 22585334.7, None, None, None], ['2020-03-04', 98.3, 100.5, 97.55, 100.1, None, 251085.0, 24993655.35, None, None, None], ['2020-03-03', 97.1, 99.9, 95.55, 98.05, None, 435677.0, 42953287.0, None, None, None], ['2020-03-02', 96.5, 98.3, 93.55, 95.05, None, 285867.0, 27318381.65, None, None, None], ['2020-02-28', 90.05, 94.75, 89.65, 94.75, None, 468539.0, 43691138.55, None, None, None], ['2020-02-27', 97.95, 98.3, 93.75, 95.05, None, 253380.0, 24293170.5, None, None, None], ['2020-02-26', 98.5, 100.8, 96.35, 100.2, None, 371150.0, 36784605.3, None, None, None], ['2020-02-25', 105.6, 106.4, 100.6, 101.2, None, 250020.0, 25613306.6, None, None, None], ['2020-02-24', 104.0, 105.5, 102.2, 104.7, None, 211543.0, 22050204.4, None, None, None], ['2020-02-21', 110.1, 110.2, 107.7, 108.2, None, 119055.0, 12948891.0, None, None, None], ['2020-02-20', 111.3, 112.8, 109.9, 110.4, None, 139229.0, 15421757.0, None, None, None], ['2020-02-19', 110.3, 112.4, 109.5, 111.2, None, 138008.0, 15341487.0, None, None, None], ['2020-02-18', 107.2, 109.8, 107.0, 109.6, None, 111209.0, 12136682.0, None, None, None], ['2020-02-17', 108.9, 109.1, 107.6, 108.8, None, 71884.0, 7784747.5, None, None, None], ['2020-02-14', 109.2, 110.1, 108.2, 108.9, None, 127710.0, 13932329.0, None, None, None], ['2020-02-13', 110.0, 111.0, 107.6, 109.5, None, 175311.0, 19094774.0, None, None, None], ['2020-02-12', 112.4, 112.4, 109.7, 110.0, None, 153713.0, 16973868.0, None, None, None], ['2020-02-11', 110.1, 113.6, 109.3, 112.2, None, 266600.0, 29766104.0, None, None, None], ['2020-02-10', 114.0, 121.1, 107.0, 109.4, None, 449853.0, 50064696.0, None, None, None], ['2020-02-07', 116.4, 117.4, 114.1, 114.9, None, 158446.0, 18250740.0, None, None, None], ['2020-02-06', 117.0, 117.2, 114.7, 116.4, None, 98097.0, 11377620.0, None, None, None], ['2020-02-05', 116.4, 117.0, 115.8, 116.1, None, 141363.0, 16440834.0, None, None, None], ['2020-02-04', 112.1, 115.7, 111.7, 115.0, None, 214584.0, 24603160.0, None, None, None], ['2020-02-03', 110.0, 112.0, 109.3, 111.4, None, 231387.0, 25691706.0, None, None, None], ['2020-01-31', 112.5, 113.7, 110.1, 110.5, None, 257830.0, 28708798.0, None, None, None], ['2020-01-30', 116.8, 118.0, 112.8, 113.3, None, 198663.0, 22749126.0, None, None, None], ['2020-01-29', 118.3, 118.8, 117.4, 117.7, None, 88563.0, 10438738.0, None, None, None], ['2020-01-28', 118.8, 119.6, 115.2, 118.1, None, 134333.0, 15754191.0, None, None, None], ['2020-01-27', 119.6, 119.7, 117.9, 118.0, None, 110778.0, 13126700.0, None, None, None], ['2020-01-24', 119.5, 120.7, 118.6, 120.2, None, 102713.0, 12323204.0, None, None, None], ['2020-01-23', 120.2, 120.9, 118.8, 118.8, None, 92012.0, 11007938.0, None, None, None], ['2020-01-22', 120.2, 121.1, 119.2, 119.7, None, 74016.0, 8885031.0, None, None, None], ['2020-01-21', 121.4, 121.4, 118.9, 119.6, None, 98600.0, 11805317.0, None, None, None], ['2020-01-20', 121.2, 122.1, 120.7, 121.4, None, 63664.0, 7721389.5, None, None, None], ['2020-01-17', 119.9, 121.1, 119.3, 120.8, None, 63663.0, 7671528.0, None, None, None], ['2020-01-16', 120.4, 120.8, 119.0, 119.2, None, 66065.0, 7893356.5, None, None, None], ['2020-01-15', 119.5, 120.7, 119.1, 120.0, None, 111393.0, 13370345.0, None, None, None], ['2020-01-14', 117.6, 119.5, 116.7, 119.3, None, 105126.0, 12492392.0, None, None, None], ['2020-01-13', 118.0, 118.9, 117.0, 117.2, None, 84067.0, 9891618.0, None, None, None], ['2020-01-10', 119.6, 120.4, 117.3, 117.5, None, 102423.0, 12098654.0, None, None, None], ['2020-01-09', 118.4, 119.8, 117.5, 119.2, None, 134426.0, 15973124.0, None, None, None], ['2020-01-08', 114.2, 116.8, 114.0, 116.4, None, 82884.0, 9602366.0, None, None, None], ['2020-01-07', 114.4, 116.9, 114.3, 114.9, None, 98974.0, 11431904.0, None, None, None], ['2020-01-06', 112.0, 114.3, 111.7, 114.0, None, 95697.0, 10844169.0, None, None, None], ['2020-01-03', 112.8, 113.4, 112.0, 113.4, None, 82304.0, 9289987.0, None, None, None], ['2020-01-02', 114.0, 114.9, 112.7, 113.8, None, 143464.0, 16291666.0, None, None, None]], 'collapse': None, 'order': None, 'database_id': 6129}}\n"
     ]
    }
   ],
   "source": [
    "# Now, call the Quandl API and pull out a small sample of the data (only one day) to get a glimpse\n",
    "# into the JSON structure that will be returned\n",
    "if response.status_code == 200:\n",
    "    # Parse the JSON response\n",
    "    data = response.json()\n",
    "\n",
    "    # Print the JSON structure for one day\n",
    "    print(\"Sample Data for One Day:\")\n",
    "    print(data)\n",
    "\n",
    "else:\n",
    "    print(f\"API request failed with status code {response.status_code}\")"
   ]
  },
  {
   "cell_type": "code",
   "execution_count": 10,
   "metadata": {
    "jupyter": {
     "outputs_hidden": true
    }
   },
   "outputs": [
    {
     "name": "stdout",
     "output_type": "stream",
     "text": [
      "Top-level keys:\n",
      "dict_keys(['dataset'])\n",
      "\n",
      "Nested keys and levels:\n",
      "dataset:\n",
      "  id:\n",
      "  dataset_code:\n",
      "  database_code:\n",
      "  name:\n",
      "  description:\n",
      "  refreshed_at:\n",
      "  newest_available_date:\n",
      "  oldest_available_date:\n",
      "  column_names:\n",
      "  frequency:\n",
      "  type:\n",
      "  premium:\n",
      "  limit:\n",
      "  transform:\n",
      "  column_index:\n",
      "  start_date:\n",
      "  end_date:\n",
      "  data:\n",
      "  collapse:\n",
      "  order:\n",
      "  database_id:\n"
     ]
    }
   ],
   "source": [
    "# Inspect the JSON structure of the object you created, and take note of how nested it is,\n",
    "# as well as the overall structure\n",
    "if response.status_code == 200:\n",
    "    # Parse the JSON response\n",
    "    data = response.json()\n",
    "\n",
    "    # Print the keys of the top-level JSON object\n",
    "    print(\"Top-level keys:\")\n",
    "    print(data.keys())\n",
    "\n",
    "    # Function to print nested keys and their levels\n",
    "    def print_nested_keys(data, level=0):\n",
    "        if isinstance(data, dict):\n",
    "            for key, value in data.items():\n",
    "                print(\"  \" * level + f\"{key}:\")\n",
    "                print_nested_keys(value, level + 1)\n",
    "        elif isinstance(data, list):\n",
    "            for item in data:\n",
    "                print_nested_keys(item, level + 1)\n",
    "\n",
    "    # Print nested keys and their levels\n",
    "    print(\"\\nNested keys and levels:\")\n",
    "    print_nested_keys(data)\n",
    "\n",
    "else:\n",
    "    print(f\"API request failed with status code {response.status_code}\")"
   ]
  },
  {
   "cell_type": "markdown",
   "metadata": {},
   "source": [
    "These are your tasks for this mini project:\n",
    "\n",
    "1. Collect data from the Franfurt Stock Exchange, for the ticker AFX_X, for the whole year 2017 (keep in mind that the date format is YYYY-MM-DD).\n",
    "2. Convert the returned JSON object into a Python dictionary.\n",
    "3. Calculate what the highest and lowest opening prices were for the stock in this period.\n",
    "4. What was the largest change in any one day (based on High and Low price)?\n",
    "5. What was the largest change between any two days (based on Closing Price)?\n",
    "6. What was the average daily trading volume during this year?\n",
    "7. (Optional) What was the median trading volume during this year. (Note: you may need to implement your own function for calculating the median.)"
   ]
  },
  {
   "cell_type": "code",
   "execution_count": 15,
   "metadata": {
    "jupyter": {
     "outputs_hidden": true
    }
   },
   "outputs": [
    {
     "name": "stdout",
     "output_type": "stream",
     "text": [
      "3. Highest Opening Price: 53.11\n",
      "3. Lowest Opening Price: 34.0\n",
      "4. Largest Change in One Day: 2.8100000000000023\n",
      "5. Largest Change Between Any Two Days: 2.559999999999995\n",
      "6. Average Daily Trading Volume: 89124.33725490196\n",
      "7. Median Trading Volume: 76286.0\n"
     ]
    }
   ],
   "source": [
    "import requests\n",
    "\n",
    "# API Key\n",
    "api_key = 'YOUR_API_KEY'\n",
    "\n",
    "# Step 1: Define the endpoint and parameters for the API request\n",
    "url = 'https://www.quandl.com/api/v3/datasets/FSE/AFX_X.json'\n",
    "params = {\n",
    "    'start_date': '2017-01-01',\n",
    "    'end_date': '2017-12-31',\n",
    "    'api_key': api_key,\n",
    "}\n",
    "\n",
    "# Step 2: Make the API request\n",
    "response = requests.get(url, params=params)\n",
    "\n",
    "# Step 3: Check if the request was successful (status code 200)\n",
    "if response.status_code == 200:\n",
    "    # Step 4: Parse the JSON response\n",
    "    data = response.json()\n",
    "\n",
    "    # Step 5: Extract relevant information from the response\n",
    "    dataset = data['dataset']\n",
    "    column_names = dataset['column_names']\n",
    "    stock_data = dataset['data']\n",
    "\n",
    "    # Step 6: Create a dictionary from the data\n",
    "    stock_dict = {column_names[i]: [daily[i] for daily in stock_data] for i in range(len(column_names))}\n",
    "\n",
    "    # Step 7: Calculate the highest and lowest opening prices\n",
    "    opening_prices = [price for price in stock_dict['Open'] if price is not None]\n",
    "    highest_opening_price = max(opening_prices)\n",
    "    lowest_opening_price = min(opening_prices)\n",
    "\n",
    "    print(f\"3. Highest Opening Price: {highest_opening_price}\")\n",
    "    print(f\"3. Lowest Opening Price: {lowest_opening_price}\")\n",
    "\n",
    "    # Step 8: Calculate the largest change in any one day (based on High and Low price)\n",
    "    daily_price_changes = [daily_high - daily_low for daily_high, daily_low in zip(stock_dict['High'], stock_dict['Low'])]\n",
    "    largest_change_in_one_day = max(daily_price_changes)\n",
    "\n",
    "    print(f\"4. Largest Change in One Day: {largest_change_in_one_day}\")\n",
    "\n",
    "    # Step 9: Calculate the largest change between any two days (based on Closing Price)\n",
    "    closing_prices = stock_dict['Close']\n",
    "    change_between_days = [abs(closing_prices[i] - closing_prices[i-1]) for i in range(1, len(closing_prices))]\n",
    "    largest_change_between_days = max(change_between_days)\n",
    "\n",
    "    print(f\"5. Largest Change Between Any Two Days: {largest_change_between_days}\")\n",
    "\n",
    "    # Step 10: Calculate the average daily trading volume\n",
    "    trading_volumes = [volume for volume in stock_dict['Traded Volume'] if volume is not None]\n",
    "    average_daily_trading_volume = sum(trading_volumes) / len(trading_volumes)\n",
    "\n",
    "    print(f\"6. Average Daily Trading Volume: {average_daily_trading_volume}\")\n",
    "\n",
    "    # Step 11: Calculate the median trading volume\n",
    "    def calculate_median(data):\n",
    "        sorted_data = sorted(data)\n",
    "        n = len(sorted_data)\n",
    "        if n % 2 == 0:\n",
    "            median = (sorted_data[n//2 - 1] + sorted_data[n//2]) / 2\n",
    "        else:\n",
    "            median = sorted_data[n//2]\n",
    "        return median\n",
    "\n",
    "    median_trading_volume = calculate_median(trading_volumes)\n",
    "\n",
    "    print(f\"7. Median Trading Volume: {median_trading_volume}\")\n",
    "\n",
    "else:\n",
    "    print(f\"7.  API request failed with status code {response.status_code}\")\n"
   ]
  },
  {
   "cell_type": "code",
   "execution_count": null,
   "metadata": {},
   "outputs": [],
   "source": []
  }
 ],
 "metadata": {
  "kernelspec": {
   "display_name": "Python 3 (ipykernel)",
   "language": "python",
   "name": "python3"
  },
  "language_info": {
   "codemirror_mode": {
    "name": "ipython",
    "version": 3
   },
   "file_extension": ".py",
   "mimetype": "text/x-python",
   "name": "python",
   "nbconvert_exporter": "python",
   "pygments_lexer": "ipython3",
   "version": "3.11.5"
  }
 },
 "nbformat": 4,
 "nbformat_minor": 4
}
